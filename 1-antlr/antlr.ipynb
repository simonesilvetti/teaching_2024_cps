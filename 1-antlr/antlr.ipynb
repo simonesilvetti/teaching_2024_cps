{
 "cells": [
  {
   "cell_type": "markdown",
   "metadata": {},
   "source": [
    "### Regular expression\n",
    "A sequence of characters that specify a pattern in text"
   ]
  },
  {
   "cell_type": "code",
   "execution_count": 2,
   "metadata": {},
   "outputs": [
    {
     "name": "stdout",
     "output_type": "stream",
     "text": [
      "<re.Match object; span=(0, 2), match='ci'>\n"
     ]
    }
   ],
   "source": [
    "import re\n",
    "text = \"ciccio\"\n",
    "result = re.match(\"ci\",text)\n",
    "print(result)"
   ]
  },
  {
   "cell_type": "markdown",
   "metadata": {},
   "source": [
    "Or, Grouping"
   ]
  },
  {
   "cell_type": "code",
   "execution_count": 3,
   "metadata": {},
   "outputs": [
    {
     "name": "stdout",
     "output_type": "stream",
     "text": [
      "<re.Match object; span=(0, 6), match='ciccio'>\n"
     ]
    }
   ],
   "source": [
    "text = \"ciccio\"\n",
    "result = re.match(\"(C|c)iccio\",text)\n",
    "print(result)"
   ]
  },
  {
   "cell_type": "markdown",
   "metadata": {},
   "source": [
    "Quantification"
   ]
  },
  {
   "cell_type": "code",
   "execution_count": 4,
   "metadata": {},
   "outputs": [
    {
     "name": "stdout",
     "output_type": "stream",
     "text": [
      "<re.Match object; span=(0, 7), match='Cciccio'>\n"
     ]
    }
   ],
   "source": [
    "# {number} number of times\n",
    "# + one or more occurences [1,inf]\n",
    "# * zero or more occurences [0,inf]\n",
    "# ? zero or one occurence [0,1]\n",
    "\n",
    "text = \"Cciccio\"\n",
    "result = re.match(\"(C|c){2}iccio\",text)\n",
    "print(result)"
   ]
  },
  {
   "cell_type": "code",
   "execution_count": 5,
   "metadata": {},
   "outputs": [
    {
     "name": "stdout",
     "output_type": "stream",
     "text": [
      "<re.Match object; span=(0, 10), match='Ccccciccio'>\n"
     ]
    }
   ],
   "source": [
    "# The preceding item is matched \n",
    "#   {n} exactly n times.\n",
    "#   {min,}  min or more times.\n",
    "#   {,max} up to max times.\n",
    "#   {min,max} at least min times, but not more than max times.\n",
    "\n",
    "text = \"Ccccciccio\"\n",
    "result = re.match(\"(C|c){2,}iccio\",text)\n",
    "print(result)"
   ]
  },
  {
   "cell_type": "markdown",
   "metadata": {},
   "source": [
    "numbers and letters"
   ]
  },
  {
   "cell_type": "code",
   "execution_count": 6,
   "metadata": {},
   "outputs": [
    {
     "name": "stdout",
     "output_type": "stream",
     "text": [
      "<re.Match object; span=(0, 1), match='3'>\n"
     ]
    }
   ],
   "source": [
    "text = \"3\"\n",
    "result = re.match(\"[0-9]\",text)\n",
    "print(result)"
   ]
  },
  {
   "cell_type": "code",
   "execution_count": 11,
   "metadata": {},
   "outputs": [
    {
     "name": "stdout",
     "output_type": "stream",
     "text": [
      "None\n"
     ]
    }
   ],
   "source": [
    "# exercise\n",
    "# write a regular expression that match\n",
    "# 1) a string with exactly one number (of one digit, e.g, 2) This is a match: \"5\"\n",
    "# 2) a string with exactly one number (of any number of digit, e.g, 1245) This is a match: \"124\"\n",
    "# 3) a string with at least one number (of any number of digit, e.g, 1245) This is a match: \"pippo % 124 245\"\n",
    "\n",
    "text = \"\"\n",
    "result = re.match(\"([^0-9]*)([0-9]+\\\\s*)+\",text)\n",
    "print(result)\n"
   ]
  },
  {
   "cell_type": "markdown",
   "metadata": {},
   "source": [
    "### ANTLR (ANother Tool for Language Recognition)\n",
    " is a powerful parser generator for reading, processing, executing, or translating structured text or binary files.\n",
    "\n",
    "#### Setup\n",
    "1) install antlr4-tools: `pip install antlr4-tools`\n",
    "2) install antlr4-python3-runtime `pip install antlr4-python3-runtime`\n",
    "\n",
    "#### Visitor Generator\n",
    "`antlr4 -Dlanguage=Python3 -visitor Expr.g4`"
   ]
  },
  {
   "cell_type": "markdown",
   "metadata": {},
   "source": [
    "### Example\n",
    "[Moonlight](https://github.com/MoonLightSuite/moonlight) \n",
    "\n",
    "[Simple-monitor](https://github.com/LogArtLab/simple-monitor)"
   ]
  },
  {
   "cell_type": "code",
   "execution_count": null,
   "metadata": {},
   "outputs": [],
   "source": []
  }
 ],
 "metadata": {
  "kernelspec": {
   "display_name": "env",
   "language": "python",
   "name": "python3"
  },
  "language_info": {
   "codemirror_mode": {
    "name": "ipython",
    "version": 3
   },
   "file_extension": ".py",
   "mimetype": "text/x-python",
   "name": "python",
   "nbconvert_exporter": "python",
   "pygments_lexer": "ipython3",
   "version": "3.12.4"
  }
 },
 "nbformat": 4,
 "nbformat_minor": 2
}
